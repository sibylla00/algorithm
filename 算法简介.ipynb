{
 "cells": [
  {
   "cell_type": "markdown",
   "metadata": {
    "toc": true
   },
   "source": [
    "<h1>目录<span class=\"tocSkip\"></span></h1>\n",
    "<div class=\"toc\"><ul class=\"toc-item\"><li><span><a href=\"#二分查找\" data-toc-modified-id=\"二分查找-1\"><span class=\"toc-item-num\">1&nbsp;&nbsp;</span>二分查找</a></span></li><li><span><a href=\"#运行时间\" data-toc-modified-id=\"运行时间-2\"><span class=\"toc-item-num\">2&nbsp;&nbsp;</span>运行时间</a></span><ul class=\"toc-item\"><li><span><a href=\"#大O表示法\" data-toc-modified-id=\"大O表示法-2.1\"><span class=\"toc-item-num\">2.1&nbsp;&nbsp;</span>大O表示法</a></span><ul class=\"toc-item\"><li><span><a href=\"#例：绘制一个4x4的网格\" data-toc-modified-id=\"例：绘制一个4x4的网格-2.1.1\"><span class=\"toc-item-num\">2.1.1&nbsp;&nbsp;</span>例：绘制一个4x4的网格</a></span></li><li><span><a href=\"#常用的大O运行时间\" data-toc-modified-id=\"常用的大O运行时间-2.1.2\"><span class=\"toc-item-num\">2.1.2&nbsp;&nbsp;</span>常用的大O运行时间</a></span></li><li><span><a href=\"#旅行商：O(n!)的算法实例\" data-toc-modified-id=\"旅行商：O(n!)的算法实例-2.1.3\"><span class=\"toc-item-num\">2.1.3&nbsp;&nbsp;</span>旅行商：O(n!)的算法实例</a></span></li></ul></li></ul></li></ul></div>"
   ]
  },
  {
   "cell_type": "markdown",
   "metadata": {},
   "source": [
    "# 二分查找 \n",
    "我们定义一个二分查找函数`binary_search`，接受一个**有序数组**和一个元素。"
   ]
  },
  {
   "cell_type": "code",
   "execution_count": 11,
   "metadata": {},
   "outputs": [],
   "source": [
    "import math\n",
    "\n",
    "def binary_search(list,item):\n",
    "    low=0\n",
    "    high=len(list)-1\n",
    "    \n",
    "    while low<=high:\n",
    "        mid=math.floor((low+high)/2)\n",
    "        guess=list[mid]\n",
    "        if guess==item:\n",
    "            return mid\n",
    "        if guess>item:\n",
    "            high=mid-1\n",
    "        else:\n",
    "            low=mid+1\n",
    "    return None"
   ]
  },
  {
   "cell_type": "code",
   "execution_count": 16,
   "metadata": {},
   "outputs": [
    {
     "name": "stdout",
     "output_type": "stream",
     "text": [
      "4\n"
     ]
    }
   ],
   "source": [
    "my_list=[1,3,5,7,9]\n",
    "print (binary_search(my_list,9))"
   ]
  },
  {
   "cell_type": "markdown",
   "metadata": {},
   "source": [
    "**练习1.1**\n",
    "    假设有一个包含128个名字的有序列表，你要使用二分查找在其中查找一个名字，请问最多需要几步才能找到？ \n",
    "    \n",
    "    答：如果按照字母顺序排列。列表中的名字则被编为1到128号，我们用item的字母排序二分，最多需要7步（$2^7=128$)  "
   ]
  },
  {
   "cell_type": "markdown",
   "metadata": {},
   "source": [
    "# 运行时间\n",
    "\n",
    "## 大O表示法\n",
    "### 例：绘制一个4x4的网格\n",
    "+ 算法1\n",
    "每次画一个格子——16次，O(n)\n",
    "+ 算法2\n",
    "把纸折4次,O(log n)\n",
    "\n",
    "### 常用的大O运行时间\n",
    "+ O(log n)，也叫**对数时间**\n",
    "+ O(n),也叫**线性时间**\n",
    "+ O(n*log n)，快\n",
    "+ O($n^2$)，慢\n",
    "+ O(n!)，慢\n",
    "\n",
    "**练习** 使用大O表示法给出下述各种情形的运行时间。 \n",
    "\n",
    "1. 在电话簿中根据名字查找电话号码。  \n",
    "    二分法：O(log n)\n",
    "2. 在电话簿中根据电话号码找人。 (提示:你必须查找整个电话簿。 )   \n",
    "    O(n)\n",
    "3. 阅读电话簿中每个人的电话号码。   \n",
    "    O(n)\n",
    "4. 阅读电话簿中姓名以A打头的人的电话号码。这个问题比较棘手,它涉及第4章的概念。答案可能让你感到惊讶!  \n",
    "    还不知道。\n",
    "\n",
    "### 旅行商：O(n!)的算法实例\n",
    "前往五个城市时：5！种  \n",
    "六个城市：6！种"
   ]
  }
 ],
 "metadata": {
  "kernelspec": {
   "display_name": "Python 3",
   "language": "python",
   "name": "python3"
  },
  "language_info": {
   "codemirror_mode": {
    "name": "ipython",
    "version": 3
   },
   "file_extension": ".py",
   "mimetype": "text/x-python",
   "name": "python",
   "nbconvert_exporter": "python",
   "pygments_lexer": "ipython3",
   "version": "3.8.3"
  },
  "toc": {
   "base_numbering": 1,
   "nav_menu": {},
   "number_sections": true,
   "sideBar": true,
   "skip_h1_title": false,
   "title_cell": "目录",
   "title_sidebar": "Contents",
   "toc_cell": true,
   "toc_position": {},
   "toc_section_display": true,
   "toc_window_display": true
  }
 },
 "nbformat": 4,
 "nbformat_minor": 4
}

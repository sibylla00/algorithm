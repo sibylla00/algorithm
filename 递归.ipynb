{
 "cells": [
  {
   "cell_type": "markdown",
   "metadata": {
    "toc": true
   },
   "source": [
    "<h1>目录<span class=\"tocSkip\"></span></h1>\n",
    "<div class=\"toc\"><ul class=\"toc-item\"><li><span><a href=\"#基线条件和递归条件\" data-toc-modified-id=\"基线条件和递归条件-1\"><span class=\"toc-item-num\">1&nbsp;&nbsp;</span>基线条件和递归条件</a></span></li><li><span><a href=\"#栈\" data-toc-modified-id=\"栈-2\"><span class=\"toc-item-num\">2&nbsp;&nbsp;</span>栈</a></span><ul class=\"toc-item\"><li><span><a href=\"#调用栈\" data-toc-modified-id=\"调用栈-2.1\"><span class=\"toc-item-num\">2.1&nbsp;&nbsp;</span>调用栈</a></span></li><li><span><a href=\"#递归调用栈\" data-toc-modified-id=\"递归调用栈-2.2\"><span class=\"toc-item-num\">2.2&nbsp;&nbsp;</span>递归调用栈</a></span></li></ul></li><li><span><a href=\"#小结\" data-toc-modified-id=\"小结-3\"><span class=\"toc-item-num\">3&nbsp;&nbsp;</span>小结</a></span></li></ul></div>"
   ]
  },
  {
   "cell_type": "markdown",
   "metadata": {},
   "source": [
    "# 基线条件和递归条件\n",
    "每个递归函数都有两部分：\n",
    "+ 递归条件：函数调用自己\n",
    "+ 基线条件：函数不再调用自己，避免无限循环\n",
    "例：倒数函数"
   ]
  },
  {
   "cell_type": "code",
   "execution_count": 2,
   "metadata": {},
   "outputs": [],
   "source": [
    "def countdown(i):\n",
    "    print (i)\n",
    "    if i<=0:\n",
    "        return\n",
    "    else:\n",
    "        countdown(i-1)"
   ]
  },
  {
   "cell_type": "code",
   "execution_count": 3,
   "metadata": {
    "collapsed": true
   },
   "outputs": [
    {
     "name": "stdout",
     "output_type": "stream",
     "text": [
      "5\n",
      "4\n",
      "3\n",
      "2\n",
      "1\n",
      "0\n"
     ]
    }
   ],
   "source": [
    "countdown(5)"
   ]
  },
  {
   "cell_type": "markdown",
   "metadata": {},
   "source": [
    "# 栈\n",
    "## 调用栈\n",
    "计算机在内部使用被称为*调用栈*的栈，下面是一个简单的函数"
   ]
  },
  {
   "cell_type": "code",
   "execution_count": 4,
   "metadata": {},
   "outputs": [],
   "source": [
    "def greet2(name):\n",
    "    print(\"how are you,\"+name+\"?\")\n",
    "    def bye():\n",
    "        print(\"ok bye!\")\n",
    "\n",
    "def greet(name):\n",
    "    print(\"hello,\"+name+\"!\")\n",
    "    greet2(name)\n",
    "    print(\"getting ready to say bye\")\n",
    "    bye()"
   ]
  },
  {
   "cell_type": "markdown",
   "metadata": {},
   "source": [
    "下面详细介绍调用函数时发生的情况：\n",
    "假设调用`greet(\"maggie\")`，\n",
    "1. 计算机将首先为该函数调用分配一块内存\n",
    "2. 变量`name`被设置为\"maggie“，存储在内存中\n",
    "3. `greet2(\"maggie\")`调用，为该函数分配一块内存，将\"maggie\"存入内存，**greet2入栈**\n",
    "4. 打印\"how are you,maggie?\"，从调用函数返回，**greet2**出栈。\n",
    "5. 栈顶又是`greet`：*调用另一个函数时，当前函数暂停并处于未完成状态*。从`greet2`之后继续执行\n",
    "6. 添加`bye`内存块，打印\"ok bye!\"并从这个函数返回\n",
    "7. 回到`greet`,由于没有别的任务了，就从`greet`返回。\n",
    "![](调用栈.png)  \n",
    "\n",
    "## 递归调用栈\n",
    "计算阶乘的递归函数："
   ]
  },
  {
   "cell_type": "code",
   "execution_count": 5,
   "metadata": {},
   "outputs": [],
   "source": [
    "def fact(x):\n",
    "    if x==1:\n",
    "        return 1\n",
    "    else:\n",
    "        return x*fact(x-1)"
   ]
  },
  {
   "cell_type": "markdown",
   "metadata": {},
   "source": [
    "下面分析调用`fact(3)`时调用栈的变化。\n",
    "![](递归调用栈.jpg)\n",
    "尽管使用栈很方便，但是代价就是占用了大量的内存。在这种情况下，有两种处理办法：\n",
    "+ 重新编写代码，转而使用循环\n",
    "+ 使用*尾递归*\n",
    "\n",
    "# 小结\n",
    "+ 递归是指调用自己的函数\n",
    "+ 递归有两个条件：基线条件和递归条件\n",
    "+ 栈有两种操作：压入和弹出\n",
    "+ 所有函数调用都进入调用栈\n",
    "+ 调用栈很长，将占用大量内存"
   ]
  }
 ],
 "metadata": {
  "kernelspec": {
   "display_name": "Python 3",
   "language": "python",
   "name": "python3"
  },
  "language_info": {
   "codemirror_mode": {
    "name": "ipython",
    "version": 3
   },
   "file_extension": ".py",
   "mimetype": "text/x-python",
   "name": "python",
   "nbconvert_exporter": "python",
   "pygments_lexer": "ipython3",
   "version": "3.8.3"
  },
  "toc": {
   "base_numbering": 1,
   "nav_menu": {},
   "number_sections": true,
   "sideBar": true,
   "skip_h1_title": false,
   "title_cell": "目录",
   "title_sidebar": "Contents",
   "toc_cell": true,
   "toc_position": {},
   "toc_section_display": true,
   "toc_window_display": true
  }
 },
 "nbformat": 4,
 "nbformat_minor": 4
}

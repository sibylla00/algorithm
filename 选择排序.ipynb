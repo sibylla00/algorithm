{
 "cells": [
  {
   "cell_type": "markdown",
   "metadata": {
    "toc": true
   },
   "source": [
    "<h1>目录<span class=\"tocSkip\"></span></h1>\n",
    "<div class=\"toc\"><ul class=\"toc-item\"><li><span><a href=\"#内存的工作原理\" data-toc-modified-id=\"内存的工作原理-1\"><span class=\"toc-item-num\">1&nbsp;&nbsp;</span>内存的工作原理</a></span></li><li><span><a href=\"#数组和链表\" data-toc-modified-id=\"数组和链表-2\"><span class=\"toc-item-num\">2&nbsp;&nbsp;</span>数组和链表</a></span><ul class=\"toc-item\"><li><span><a href=\"#链表\" data-toc-modified-id=\"链表-2.1\"><span class=\"toc-item-num\">2.1&nbsp;&nbsp;</span>链表</a></span></li><li><span><a href=\"#数组\" data-toc-modified-id=\"数组-2.2\"><span class=\"toc-item-num\">2.2&nbsp;&nbsp;</span>数组</a></span></li><li><span><a href=\"#比较数组与链表\" data-toc-modified-id=\"比较数组与链表-2.3\"><span class=\"toc-item-num\">2.3&nbsp;&nbsp;</span>比较数组与链表</a></span><ul class=\"toc-item\"><li><span><a href=\"#在中间插入\" data-toc-modified-id=\"在中间插入-2.3.1\"><span class=\"toc-item-num\">2.3.1&nbsp;&nbsp;</span>在中间插入</a></span></li><li><span><a href=\"#删除\" data-toc-modified-id=\"删除-2.3.2\"><span class=\"toc-item-num\">2.3.2&nbsp;&nbsp;</span>删除</a></span></li></ul></li></ul></li><li><span><a href=\"#选择排序\" data-toc-modified-id=\"选择排序-3\"><span class=\"toc-item-num\">3&nbsp;&nbsp;</span>选择排序</a></span><ul class=\"toc-item\"><li><span><a href=\"#过程\" data-toc-modified-id=\"过程-3.1\"><span class=\"toc-item-num\">3.1&nbsp;&nbsp;</span>过程</a></span></li><li><span><a href=\"#示例代码：为数组排序\" data-toc-modified-id=\"示例代码：为数组排序-3.2\"><span class=\"toc-item-num\">3.2&nbsp;&nbsp;</span>示例代码：为数组排序</a></span></li></ul></li></ul></div>"
   ]
  },
  {
   "cell_type": "markdown",
   "metadata": {},
   "source": [
    "**本章目标：**\n",
    "+ 学习数据结构——数组和链表\n",
    "+ 学习选择排序  \n",
    "\n",
    "# 内存的工作原理\n",
    "  \n",
    "  需要将数据存储到内存时,你**请求计算机提供存储空间**,计算机给你一个**存储地址**。需要存储多项数据时,有两种基本方式——**数组**和**链表**。\n",
    " \n",
    "# 数组和链表  \n",
    "  \n",
    "  我们先将待办事项存储在数组中。使用数组意味着所有待办事项在内存中都是*相连的*(紧靠在一起的) 。  \n",
    "  然而，**数组**在储存空间不够时，只能请求计算机重新分配一块新的储存所有资料的空间。**添加新元素很麻烦！** 并且额外请求的内存可能用不上，这将浪费内存。\n",
    "## 链表\n",
    "  链表的每个元素都储存了下一个元素的地址，从而使一系列随机的地址串在一起。  \n",
    "  ![](链表.jpeg)\n",
    "  ![](链表2.jpeg)\n",
    "  链表的优势在于**插入元素**：添加元素时，只需将其放入内存，并将其地址储存到前一个元素中。\n",
    "  链表的劣势在于跳跃到某个元素时，效率很低。  \n",
    "  \n",
    "## 数组\n",
    "  优势：读取元素很快  \n",
    "  \n",
    "## 比较数组与链表\n",
    "时间复杂度的比较  \n",
    "\n",
    "| |数组|链表|\n",
    "|----|----|----|\n",
    "|读取|O(1)|O(n)|\n",
    "|插入|O(n)|O(1)|  \n",
    "\n",
    "### 在中间插入\n",
    "链表插入元素时，只需要修改前一个元素的地址，而数组需要将后面所有的元素后移。\n",
    "### 删除\n",
    "链表更好，只需要修改前一个元素的指向地址\n",
    "# 选择排序\n",
    "## 过程\n",
    "![](选择排序.jpeg)\n",
    "## 示例代码：为数组排序\n",
    "首先，写出一个找出数组中最小元素的函数。"
   ]
  },
  {
   "cell_type": "code",
   "execution_count": 1,
   "metadata": {},
   "outputs": [],
   "source": [
    "def findMin(arr):\n",
    "    Min=arr[0]\n",
    "    Min_index=0\n",
    "    for i in range(1,len(arr)-1):\n",
    "        if arr[i]<Min:\n",
    "            Min=arr[i]\n",
    "            Min_index=i\n",
    "    return Min_index#返回最小元素的索引"
   ]
  },
  {
   "cell_type": "markdown",
   "metadata": {},
   "source": [
    "下一步，使用这个函数来编写选择排序的算法"
   ]
  },
  {
   "cell_type": "code",
   "execution_count": 2,
   "metadata": {},
   "outputs": [],
   "source": [
    "def selectionSor(arr):\n",
    "    NewArr=[]\n",
    "    for i in range(len(arr)):\n",
    "        Min=findMin(arr)\n",
    "        NewArr.append(arr.pop(Min))## 移除元素并返回元素值\n",
    "    return NewArr"
   ]
  },
  {
   "cell_type": "code",
   "execution_count": 4,
   "metadata": {},
   "outputs": [
    {
     "name": "stdout",
     "output_type": "stream",
     "text": [
      "[2, 3, 4, 6, 10]\n"
     ]
    }
   ],
   "source": [
    "print (selectionSor([4,3,6,2,10]))"
   ]
  }
 ],
 "metadata": {
  "kernelspec": {
   "display_name": "Python 3",
   "language": "python",
   "name": "python3"
  },
  "language_info": {
   "codemirror_mode": {
    "name": "ipython",
    "version": 3
   },
   "file_extension": ".py",
   "mimetype": "text/x-python",
   "name": "python",
   "nbconvert_exporter": "python",
   "pygments_lexer": "ipython3",
   "version": "3.8.3"
  },
  "toc": {
   "base_numbering": 1,
   "nav_menu": {},
   "number_sections": true,
   "sideBar": true,
   "skip_h1_title": false,
   "title_cell": "目录",
   "title_sidebar": "Contents",
   "toc_cell": true,
   "toc_position": {
    "height": "calc(100% - 180px)",
    "left": "10px",
    "top": "150px",
    "width": "242.796875px"
   },
   "toc_section_display": true,
   "toc_window_display": true
  }
 },
 "nbformat": 4,
 "nbformat_minor": 4
}

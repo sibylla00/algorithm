{
 "cells": [
  {
   "cell_type": "markdown",
   "metadata": {
    "toc": true
   },
   "source": [
    "<h1>目录<span class=\"tocSkip\"></span></h1>\n",
    "<div class=\"toc\"><ul class=\"toc-item\"><li><span><a href=\"#分而治之\" data-toc-modified-id=\"分而治之-1\"><span class=\"toc-item-num\">1&nbsp;&nbsp;</span>分而治之</a></span><ul class=\"toc-item\"><li><span><a href=\"#例1:假如你是农场主，有一小块土地\" data-toc-modified-id=\"例1:假如你是农场主，有一小块土地-1.1\"><span class=\"toc-item-num\">1.1&nbsp;&nbsp;</span>例1:假如你是农场主，有一小块土地</a></span></li><li><span><a href=\"#例2：给定一个数字数组[2,4,6]，需要将这些数字相加并返回结果\" data-toc-modified-id=\"例2：给定一个数字数组[2,4,6]，需要将这些数字相加并返回结果-1.2\"><span class=\"toc-item-num\">1.2&nbsp;&nbsp;</span>例2：给定一个数字数组[2,4,6]，需要将这些数字相加并返回结果</a></span></li><li><span><a href=\"#练习\" data-toc-modified-id=\"练习-1.3\"><span class=\"toc-item-num\">1.3&nbsp;&nbsp;</span>练习</a></span></li></ul></li><li><span><a href=\"#快速排序\" data-toc-modified-id=\"快速排序-2\"><span class=\"toc-item-num\">2&nbsp;&nbsp;</span>快速排序</a></span></li><li><span><a href=\"#大O表示法\" data-toc-modified-id=\"大O表示法-3\"><span class=\"toc-item-num\">3&nbsp;&nbsp;</span>大O表示法</a></span><ul class=\"toc-item\"><li><span><a href=\"#比较合并排序与快速排序\" data-toc-modified-id=\"比较合并排序与快速排序-3.1\"><span class=\"toc-item-num\">3.1&nbsp;&nbsp;</span>比较合并排序与快速排序</a></span></li><li><span><a href=\"#平均情况与最糟情况\" data-toc-modified-id=\"平均情况与最糟情况-3.2\"><span class=\"toc-item-num\">3.2&nbsp;&nbsp;</span>平均情况与最糟情况</a></span></li></ul></li></ul></div>"
   ]
  },
  {
   "cell_type": "markdown",
   "metadata": {},
   "source": [
    "本章我们将使用**分而治之(D&C)**，一种著名的**递归**式问题解决方法。\n",
    "# 分而治之\n",
    "使用D&C解决问题的过程包括两个步骤：\n",
    "1. 找到尽量**简单**的基线条件\n",
    "2. 不断将问题分解（缩小规模），直到符合基线条件。\n",
    "\n",
    "## 例1:假如你是农场主，有一小块土地\n",
    "![](分土地.png)\n",
    "+ 基线条件：一个边的长度是另一条边的整数倍\n",
    "寻找递归条件：首先，找出这块地可容纳的最大方块\n",
    "![](土地分治.png)  \n",
    "\n",
    "接下来，对那一小块地使用相同的算法！\n",
    "\n",
    "D&C并非可用于解决问题的算法，而是一种解决问题的思路。\n",
    "## 例2：给定一个数字数组[2,4,6]，需要将这些数字相加并返回结果\n",
    "1. 循环算法"
   ]
  },
  {
   "cell_type": "code",
   "execution_count": null,
   "metadata": {},
   "outputs": [],
   "source": [
    "def sum(arr):\n",
    "    total=0\n",
    "    for x in arr:\n",
    "        total+=x\n",
    "    return total"
   ]
  },
  {
   "cell_type": "code",
   "execution_count": 6,
   "metadata": {
    "collapsed": true
   },
   "outputs": [
    {
     "name": "stdout",
     "output_type": "stream",
     "text": [
      "12\n"
     ]
    }
   ],
   "source": [
    "print(sum([2,4,6]))"
   ]
  },
  {
   "cell_type": "markdown",
   "metadata": {},
   "source": [
    "2. 递归函数  \n",
    "**第一步**：找到基线条件——空数组  \n",
    "**第二步**：递归条件（缩小问题规模）  \n",
    "`sum([2,4,6])`与`2+sum([4,6])`等效。——用`pop`实现"
   ]
  },
  {
   "cell_type": "code",
   "execution_count": 14,
   "metadata": {},
   "outputs": [],
   "source": [
    "def sum2(arr):\n",
    "    if arr==[]:\n",
    "        return 0\n",
    "    else:\n",
    "        return arr.pop(0)+sum2(arr)"
   ]
  },
  {
   "cell_type": "code",
   "execution_count": 15,
   "metadata": {
    "collapsed": true
   },
   "outputs": [
    {
     "name": "stdout",
     "output_type": "stream",
     "text": [
      "12\n"
     ]
    }
   ],
   "source": [
    "print(sum2([2,4,6]))"
   ]
  },
  {
   "cell_type": "markdown",
   "metadata": {},
   "source": [
    "## 练习 \n",
    "2. 编写一个递归函数来计算列表包含的元素数"
   ]
  },
  {
   "cell_type": "code",
   "execution_count": 21,
   "metadata": {},
   "outputs": [],
   "source": [
    "def ElemNum(arr):\n",
    "    if arr==[]:\n",
    "        return 0\n",
    "    else:\n",
    "        del arr[0]\n",
    "        return 1+ElemNum(arr)"
   ]
  },
  {
   "cell_type": "code",
   "execution_count": 40,
   "metadata": {
    "scrolled": true
   },
   "outputs": [
    {
     "name": "stdout",
     "output_type": "stream",
     "text": [
      "1\n"
     ]
    }
   ],
   "source": [
    "print(ElemNum([2]))"
   ]
  },
  {
   "cell_type": "markdown",
   "metadata": {},
   "source": [
    "3. 找出列表中的最大数字"
   ]
  },
  {
   "cell_type": "code",
   "execution_count": 37,
   "metadata": {},
   "outputs": [],
   "source": [
    "def findMax(arr):\n",
    "    if len(arr)<2:\n",
    "        return arr[0]\n",
    "    elif len(arr)==0:return\n",
    "    else:\n",
    "        if arr[0]>arr[1]:\n",
    "            del arr[1]\n",
    "        else:\n",
    "            del arr[0]\n",
    "        return findMax(arr)"
   ]
  },
  {
   "cell_type": "code",
   "execution_count": 38,
   "metadata": {
    "collapsed": true
   },
   "outputs": [
    {
     "name": "stdout",
     "output_type": "stream",
     "text": [
      "6\n"
     ]
    }
   ],
   "source": [
    "print(findMax([2,4,6]))"
   ]
  },
  {
   "cell_type": "markdown",
   "metadata": {},
   "source": [
    "# 快速排序\n",
    "1. 基线条件：空数组或只有一个元素  \n",
    "\n",
    "选择**基准值**(pivot)  \n",
    "**分区**(partitioning)：找出比基准值小的元素以及比基准值大的元素\n",
    "现在我们有三个数组\n",
    "+ 一个由所有小于基准值数字组成的子数组\n",
    "+ 基准值\n",
    "+ 一个由所有大于基准值的数组成的子数组"
   ]
  },
  {
   "cell_type": "code",
   "execution_count": 50,
   "metadata": {},
   "outputs": [],
   "source": [
    "def quicksort(arr):\n",
    "    if len(arr)<2:\n",
    "        return arr\n",
    "    else:\n",
    "        pivot=arr[0]\n",
    "        min=[]\n",
    "        max=[]\n",
    "        for x in arr[1:]:\n",
    "            if x<=pivot:\n",
    "                min.append(x)\n",
    "            elif x>pivot:\n",
    "                max.append(x)\n",
    "        return quicksort(min)+[pivot]+quicksort(max)"
   ]
  },
  {
   "cell_type": "code",
   "execution_count": 53,
   "metadata": {
    "scrolled": true
   },
   "outputs": [
    {
     "name": "stdout",
     "output_type": "stream",
     "text": [
      "[3, 7, 8, 10, 10, 12, 15, 17, 24, 33]\n"
     ]
    }
   ],
   "source": [
    "print(quicksort([33,10,15,7,12,3,8,17,24,10]))"
   ]
  },
  {
   "cell_type": "markdown",
   "metadata": {},
   "source": [
    "# 大O表示法\n",
    "常见的排序算法大O运行时间：\n",
    "![](大O表示法.png)\n",
    "## 比较合并排序与快速排序\n",
    "$O(n)$代表的是运行时间为$c\\cdot n$,在两个相同大O时间的算法中，常量影响较大。快速排序的常量比合并排序的常量小，所以快速排序更快。\n",
    "## 平均情况与最糟情况\n",
    "如果总是使用第一个元素作为基准值，快速排序的最糟情况：[1,2,3,4,5],$O(n^2)$\n",
    "如果使用中间元素作为基准值,$O(nlog n)$。这是最佳情况也是平均情况。"
   ]
  }
 ],
 "metadata": {
  "kernelspec": {
   "display_name": "Python 3",
   "language": "python",
   "name": "python3"
  },
  "language_info": {
   "codemirror_mode": {
    "name": "ipython",
    "version": 3
   },
   "file_extension": ".py",
   "mimetype": "text/x-python",
   "name": "python",
   "nbconvert_exporter": "python",
   "pygments_lexer": "ipython3",
   "version": "3.8.3"
  },
  "toc": {
   "base_numbering": 1,
   "nav_menu": {},
   "number_sections": true,
   "sideBar": true,
   "skip_h1_title": false,
   "title_cell": "目录",
   "title_sidebar": "Contents",
   "toc_cell": true,
   "toc_position": {},
   "toc_section_display": true,
   "toc_window_display": true
  }
 },
 "nbformat": 4,
 "nbformat_minor": 4
}
